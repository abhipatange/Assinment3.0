{
 "cells": [
  {
   "cell_type": "code",
   "execution_count": null,
   "id": "2f0ff7c6-9ef3-4c7f-b165-202fc2ef259d",
   "metadata": {},
   "outputs": [],
   "source": [
    "Q1. Explain the difference between linear regression and logistic regression models.\n",
    "Provide an example of  a scenario where logistic regression would be more appropriate. "
   ]
  },
  {
   "cell_type": "code",
   "execution_count": null,
   "id": "5e14bda2-4975-4679-94e8-01cce60d7383",
   "metadata": {},
   "outputs": [],
   "source": [
    "Ans = The Differences between Linear Regression and Logistic Regression. \n",
    "Linear Regression is used to handle regression problems whereas Logistic regression is\n",
    "used to handle the classification problems.\n",
    "Linear regression provides a continuous output but Logistic regression provides discreet output."
   ]
  },
  {
   "cell_type": "code",
   "execution_count": null,
   "id": "6a8a47a0-50c1-4637-97be-bf36290467d3",
   "metadata": {},
   "outputs": [],
   "source": []
  },
  {
   "cell_type": "code",
   "execution_count": null,
   "id": "358f0be7-8760-4166-8961-560669b24066",
   "metadata": {},
   "outputs": [],
   "source": [
    "Q2. What is the cost function used in logistic regression, and how is it optimized?"
   ]
  },
  {
   "cell_type": "code",
   "execution_count": null,
   "id": "87a305d2-80c9-4e98-b7dd-892a58438b94",
   "metadata": {},
   "outputs": [],
   "source": [
    "Ans = A Cost function is used to gauge the performance of the Machine Learning model.\n",
    "A Machine Learning model devoid of the Cost function is futile.\n",
    "Cost Function helps to analyze how well a Machine Learning model performs.\n",
    "A Cost function basically compares the predicted values with the actual values."
   ]
  },
  {
   "cell_type": "code",
   "execution_count": null,
   "id": "bed3f58e-a1ab-41d7-bda2-adae2f2f4c3e",
   "metadata": {},
   "outputs": [],
   "source": []
  },
  {
   "cell_type": "code",
   "execution_count": null,
   "id": "0dedc833-eb1c-495f-99f6-263864ab3df1",
   "metadata": {},
   "outputs": [],
   "source": [
    "Q3. Explain the concept of regularization in logistic regression and how it helps prevent overfitting. "
   ]
  },
  {
   "cell_type": "code",
   "execution_count": null,
   "id": "f52af475-bc3d-4f8a-895b-1f10733285a9",
   "metadata": {},
   "outputs": [],
   "source": [
    "Ans = Regularization is a technique that penalizes the coefficient.\n",
    "In an overfit model, the coefficients are generally inflated.\n",
    " Regularization adds penalties to the parameters and avoids them weigh heavily.\n",
    "The coefficients are added to the cost function of the linear equation"
   ]
  },
  {
   "cell_type": "code",
   "execution_count": null,
   "id": "9023d8bb-caf4-455a-9701-09f58ff88848",
   "metadata": {},
   "outputs": [],
   "source": []
  },
  {
   "cell_type": "code",
   "execution_count": null,
   "id": "1927d21b-2b52-419f-a51d-926aa770be90",
   "metadata": {},
   "outputs": [],
   "source": [
    "Q4. What is the ROC curve, and how is it used to evaluate the performance of the logistic regression  model? "
   ]
  },
  {
   "cell_type": "code",
   "execution_count": null,
   "id": "5816b122-4f17-4030-a9ee-58f9e5869205",
   "metadata": {},
   "outputs": [],
   "source": [
    "ROC curves in logistic regression are used for determining the best cutoff value \n",
    "for predicting whether a new observation is a \"failure\" (0) or a \"success\" (1).\n",
    "If  not familiar with ROC curves, they can take some effort to understand. "
   ]
  },
  {
   "cell_type": "code",
   "execution_count": null,
   "id": "8d2f4bd6-ba20-47f9-845e-fabf1c611653",
   "metadata": {},
   "outputs": [],
   "source": []
  },
  {
   "cell_type": "code",
   "execution_count": null,
   "id": "30c5e033-9de8-4bd4-8884-793732b5214f",
   "metadata": {},
   "outputs": [],
   "source": [
    "Q5. What are some common techniques for feature selection in logistic regression?\n",
    "How do these  techniques help improve the model's performance?"
   ]
  },
  {
   "cell_type": "code",
   "execution_count": null,
   "id": "65a506a2-ade0-4bf9-8cdc-039077d5a513",
   "metadata": {},
   "outputs": [],
   "source": [
    "Ans = Feature selection method is an automatic process that selects a subset of the independent variables(features)\n",
    "from the existing set of features to create a model. \n",
    "The premise of this method is the removal of features that are redundant and \n",
    "irrelevant without losing too much information"
   ]
  },
  {
   "cell_type": "code",
   "execution_count": null,
   "id": "1949bad1-118d-4d00-8d71-df139e2308f9",
   "metadata": {},
   "outputs": [],
   "source": []
  },
  {
   "cell_type": "code",
   "execution_count": null,
   "id": "2f251d72-5a3c-4786-86e2-1fdf7c3e69d5",
   "metadata": {},
   "outputs": [],
   "source": [
    "Q6. How can you handle imbalanced datasets in logistic regression? What are some strategies for dealing  with class imbalance? "
   ]
  },
  {
   "cell_type": "code",
   "execution_count": null,
   "id": "9b2f5fb8-fde5-4186-bc97-01f6b62c00e0",
   "metadata": {},
   "outputs": [],
   "source": [
    "Ans =1. 7 Techniques to Handle Imbalanced Data. \n",
    "2.Use the right evaluation metrics. \n",
    "3.Resample the training set. \n",
    "4.Use K-fold Cross-Validation in the Right Way. \n",
    "5.Ensemble Different Resampled Datasets. \n",
    "6.Resample with Different Ratios. \n",
    "7.Cluster the abundant class. \n",
    "finally ready"
   ]
  },
  {
   "cell_type": "code",
   "execution_count": null,
   "id": "a437b8ab-37fc-42ab-88e6-9436531531e9",
   "metadata": {},
   "outputs": [],
   "source": []
  },
  {
   "cell_type": "code",
   "execution_count": null,
   "id": "bc8f7c10-b50e-4cfe-ae05-dd4a1998a468",
   "metadata": {},
   "outputs": [],
   "source": [
    "Q7. Can you discuss some common issues and challenges that may arise when implementing logistic  regression, and how they can be addressed?\n",
    "For example, what can be done if there is multicollinearity  among the independent variables?"
   ]
  },
  {
   "cell_type": "code",
   "execution_count": null,
   "id": "486f9e5f-ca8a-4813-ad4b-3f317766cab2",
   "metadata": {},
   "outputs": [],
   "source": [
    "Logistic regression is an example of supervised learning.\n",
    "It is used to calculate or predict the probability of a binary (yes/no) event occurring.\n"
   ]
  },
  {
   "cell_type": "code",
   "execution_count": null,
   "id": "b304e0f1-d5d9-4473-a621-923c301f2031",
   "metadata": {},
   "outputs": [],
   "source": []
  }
 ],
 "metadata": {
  "kernelspec": {
   "display_name": "Python 3 (ipykernel)",
   "language": "python",
   "name": "python3"
  },
  "language_info": {
   "codemirror_mode": {
    "name": "ipython",
    "version": 3
   },
   "file_extension": ".py",
   "mimetype": "text/x-python",
   "name": "python",
   "nbconvert_exporter": "python",
   "pygments_lexer": "ipython3",
   "version": "3.10.8"
  }
 },
 "nbformat": 4,
 "nbformat_minor": 5
}
